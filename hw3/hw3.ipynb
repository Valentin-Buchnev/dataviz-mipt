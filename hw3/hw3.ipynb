{
 "cells": [
  {
   "cell_type": "code",
   "execution_count": 284,
   "metadata": {},
   "outputs": [],
   "source": [
    "import numpy as np\n",
    "import networkx as nx\n",
    "\n",
    "from matplotlib import pyplot as plt"
   ]
  },
  {
   "cell_type": "markdown",
   "metadata": {},
   "source": [
    "---\n",
    "Формат входных данных: .txt файл, каждая строка содержит информацию об одной точке -- 8 чисел, разделенные пробелами: $x, y, W, H, x\\_shift_1, y\\_shift_1, x\\_shift_2, y\\_shift_2$,\n",
    "\n",
    "где $x, y$ -- координаты точки, $W, H$ -- размеры рамки. $x\\_shift_i, y\\_shift_i$ -- 2 варианта положения точки внутри рамки (отсчёт от левого нижнего угла).\n",
    "\n",
    "---\n",
    "считаем данные:"
   ]
  },
  {
   "cell_type": "code",
   "execution_count": 285,
   "metadata": {},
   "outputs": [],
   "source": [
    "path = './example.txt'\n",
    "\n",
    "points = [] \n",
    "\n",
    "with open(path) as file:\n",
    "    for line in file.read().split('\\n'):\n",
    "        numbers = list(map(int, line.split(' ')))\n",
    "        assert len(numbers) == 8\n",
    "        \n",
    "        info = {\n",
    "            'name': str(len(points)),\n",
    "            'x': numbers[0],\n",
    "            'y': numbers[1],\n",
    "            'W': numbers[2],\n",
    "            'H': numbers[3],\n",
    "            'x_shift_1': numbers[4],\n",
    "            'y_shift_1': numbers[5],\n",
    "            'x_shift_2': numbers[6],\n",
    "            'y_shift_2': numbers[7],\n",
    "        }\n",
    "        \n",
    "        points.append(info)"
   ]
  },
  {
   "cell_type": "code",
   "execution_count": 309,
   "metadata": {},
   "outputs": [],
   "source": [
    "# возвращает координаты прямоугольника в формате (*, *), (*, *) --- левая нижняя и правая верхняя точки\n",
    "def getBoxBorders(p_idx, shift_idx):\n",
    "    x_shift = points[p_idx]['x_shift_' + str(shift_idx)]\n",
    "    y_shift = points[p_idx]['y_shift_' + str(shift_idx)]\n",
    "\n",
    "    box_x_min = points[p_idx]['x'] - x_shift\n",
    "    box_y_min = points[p_idx]['y'] - y_shift\n",
    "    box_x_max = box_x_min + points[p_idx]['W']\n",
    "    box_y_max = box_y_min + points[p_idx]['H']\n",
    "    \n",
    "    return (box_x_min, box_y_min), (box_x_max, box_y_max)\n",
    "\n",
    "def getNegName(name):\n",
    "    neg_name = name\n",
    "    if len(neg_name) >= 4 and neg_name[:4] == 'not_':\n",
    "        neg_name = neg_name[4:]\n",
    "    else:\n",
    "        neg_name = 'not_' + neg_name\n",
    "    return neg_name\n",
    "\n",
    "def getName(p_idx, shift_idx):\n",
    "    name = points[p_idx]['name']\n",
    "    neg_name = 'not_' + points[p_idx]['name']\n",
    "\n",
    "    if shift_idx == 2:\n",
    "        name, neg_name = neg_name, name\n",
    "    return name, neg_name\n",
    "\n",
    "def intersects(box1, box2):\n",
    "    overlap_x = (box1[1][0] >= box2[0][0] and box2[1][0] >= box1[0][0])\n",
    "    overlap_y = (box1[1][1] >= box2[0][1] and box2[1][1] >= box1[0][1])\n",
    "    return overlap_x and overlap_y"
   ]
  },
  {
   "cell_type": "markdown",
   "metadata": {},
   "source": [
    "---\n",
    "таким образом выглядят варианты рамок для вершин:"
   ]
  },
  {
   "cell_type": "code",
   "execution_count": 310,
   "metadata": {},
   "outputs": [
    {
     "data": {
      "image/png": "[encoded data removed]",
      "text/plain": [
       "<Figure size 1080x576 with 1 Axes>"
      ]
     },
     "metadata": {
      "needs_background": "light"
     },
     "output_type": "display_data"
    }
   ],
   "source": [
    "plt.figure(figsize=(15, 8))\n",
    "\n",
    "# задаем пределы отрисовки\n",
    "plt.ylim((-100, 600))\n",
    "plt.xlim((-100, 600))\n",
    "\n",
    "# нарисуем рамку отрисовки\n",
    "plt.plot([0, 0], [0, 500], c='b')\n",
    "plt.plot([0, 500], [500, 500], c='b')\n",
    "plt.plot([500, 500], [500, 0], c='b')\n",
    "plt.plot([500, 0], [0, 0], c='b')\n",
    "\n",
    "for i in range(len(points)):\n",
    "    plt.scatter(points[i]['x'], points[i]['y'], c='r')\n",
    "    \n",
    "    for  k in range(1, 3):\n",
    "        box = getBoxBorders(i, k)\n",
    "        plt.plot([box[0][0], box[0][0]], [box[0][1], box[1][1]], '--', c='r')\n",
    "        plt.plot([box[0][0], box[1][0]], [box[1][1], box[1][1]], '--', c='r')\n",
    "        plt.plot([box[1][0], box[1][0]], [box[1][1], box[0][1]], '--', c='r')\n",
    "        plt.plot([box[1][0], box[0][0]], [box[0][1], box[0][1]], '--', c='r')   \n",
    "\n",
    "plt.show()"
   ]
  },
  {
   "cell_type": "markdown",
   "metadata": {},
   "source": [
    "---\n",
    "построим граф всех возможных импликаций для решения задачи 2-SAT:"
   ]
  },
  {
   "cell_type": "code",
   "execution_count": 297,
   "metadata": {},
   "outputs": [],
   "source": [
    "# возвращает координаты прямоугольника в формате (*, *), (*, *) --- левая нижняя и правая верхняя точки\n",
    "def getBoxBorders(p_idx, shift_idx):\n",
    "    x_shift = points[p_idx]['x_shift_' + str(shift_idx)]\n",
    "    y_shift = points[p_idx]['y_shift_' + str(shift_idx)]\n",
    "\n",
    "    box_x_min = points[p_idx]['x'] - x_shift\n",
    "    box_y_min = points[p_idx]['y'] - y_shift\n",
    "    box_x_max = box_x_min + points[p_idx]['W']\n",
    "    box_y_max = box_y_min + points[p_idx]['H']\n",
    "    \n",
    "    return (box_x_min, box_y_min), (box_x_max, box_y_max)\n",
    "\n",
    "def getNegName(name):\n",
    "    neg_name = name\n",
    "    if len(neg_name) >= 4 and neg_name[:4] == 'not_':\n",
    "        neg_name = neg_name[4:]\n",
    "    else:\n",
    "        neg_name = 'not_' + neg_name\n",
    "    return neg_name\n",
    "\n",
    "def getName(p_idx, shift_idx):\n",
    "    name = points[p_idx]['name']\n",
    "    neg_name = 'not_' + points[p_idx]['name']\n",
    "\n",
    "    if shift_idx == 2:\n",
    "        name, neg_name = neg_name, name\n",
    "    return name, neg_name\n",
    "\n",
    "def intersects(box1, box2):\n",
    "    overlap_x = (box1[1][0] >= box2[0][0] and box2[1][0] >= box1[0][0])\n",
    "    overlap_y = (box1[1][1] >= box2[0][1] and box2[1][1] >= box1[0][1])\n",
    "    return overlap_x and overlap_y"
   ]
  },
  {
   "cell_type": "code",
   "execution_count": 298,
   "metadata": {},
   "outputs": [],
   "source": [
    "G = nx.DiGraph()\n",
    "\n",
    "for i in range(len(points)):\n",
    "    G.add_node(points[i]['name'])\n",
    "    G.add_node('not_' + points[i]['name'])\n",
    "    \n",
    "for i in range(len(points)):\n",
    "    for j in range(i + 1, len(points)):\n",
    "        for k1 in range(1, 3):\n",
    "            for k2 in range(1, 3):\n",
    "            \n",
    "                p1_name, p1_neg_name = getName(i, k1)\n",
    "                p2_name, p2_neg_name = getName(j, k2)\n",
    "\n",
    "                box1 = getBoxBorders(i, k1)\n",
    "                box2 = getBoxBorders(j, k2)\n",
    "\n",
    "                if (intersects(box1, box2)):\n",
    "                    G.add_edge(p1_name, p2_neg_name)\n",
    "                    G.add_edge(p2_name, p1_neg_name)"
   ]
  },
  {
   "cell_type": "markdown",
   "metadata": {},
   "source": [
    "---\n",
    "Проверим на выполнимость:"
   ]
  },
  {
   "cell_type": "code",
   "execution_count": 299,
   "metadata": {},
   "outputs": [],
   "source": [
    "G_rev = G.reverse()\n",
    "\n",
    "def mark(ver):\n",
    "    if ver in values.keys():\n",
    "        if values[ver] == False:\n",
    "            values['ok'] = False\n",
    "        return\n",
    "    neg_ver = getNegName(ver)\n",
    "    values[ver] = True\n",
    "    values[neg_ver] = False\n",
    "    \n",
    "    for v in G.neighbors(ver):\n",
    "        mark(v)\n",
    "    for v in G_rev.neighbors(neg_ver):\n",
    "        mark(getNegName(v))"
   ]
  },
  {
   "cell_type": "code",
   "execution_count": 300,
   "metadata": {},
   "outputs": [],
   "source": [
    "values = {}\n",
    "values['ok'] = True\n",
    "\n",
    "# Проверим, что для переменные x_i, и not_x_i лежат в разных компонентах\n",
    "comp_cnt = 0\n",
    "comps = {}\n",
    "\n",
    "for c in nx.strongly_connected_components(G):\n",
    "    vs = []\n",
    "    for v in c:\n",
    "        vs.append(getNegName(v) if len(v) >= 4 else v)\n",
    "        comps[v] = comp_cnt\n",
    "    \n",
    "    if len(c) != len(set(vs)):\n",
    "        ok = False\n",
    "    comp_cnt += 1\n",
    "        \n",
    "# обработаем прямоугольники, выходящие за пределы отрисовки\n",
    "for i in range(len(points)):\n",
    "    good = []\n",
    "    for k in range(1, 3):\n",
    "        box = getBoxBorders(i, k)\n",
    "        flag = (min(list(box[0]) + list(box[1])) >= 0 and max(list(box[0]) + list(box[1])) <= 500)\n",
    "        good.append(flag)\n",
    "    \n",
    "    if not good[0] and not good[1]:\n",
    "        values['ok'] = False\n",
    "        break\n",
    "    if not good[0] and good[1]:\n",
    "        mark('not_' + points[i]['name'])\n",
    "    \n",
    "    if good[0] and not good[1]:\n",
    "        mark(points[i]['name'])"
   ]
  },
  {
   "cell_type": "code",
   "execution_count": 301,
   "metadata": {},
   "outputs": [
    {
     "data": {
      "text/plain": [
       "{'ok': True,\n",
       " 'not_0': True,\n",
       " '0': False,\n",
       " 'not_1': True,\n",
       " '1': False,\n",
       " 'not_2': True,\n",
       " '2': False,\n",
       " 'not_3': True,\n",
       " '3': False,\n",
       " 'not_4': True,\n",
       " '4': False,\n",
       " 'not_5': True,\n",
       " '5': False,\n",
       " 'not_6': True,\n",
       " '6': False,\n",
       " 'not_7': True,\n",
       " '7': False}"
      ]
     },
     "execution_count": 301,
     "metadata": {},
     "output_type": "execute_result"
    }
   ],
   "source": [
    "values"
   ]
  },
  {
   "cell_type": "markdown",
   "metadata": {},
   "source": [
    "---\n",
    "Расставим метки вершинам в соответствии с топологической сортировкой компонент сильной связности:"
   ]
  },
  {
   "cell_type": "code",
   "execution_count": 302,
   "metadata": {},
   "outputs": [],
   "source": [
    "ts = nx.DiGraph()\n",
    "ts.add_nodes_from(np.arange(0, comp_cnt))\n",
    "\n",
    "for e in G.edges:\n",
    "    if comps[e[0]] == comps[e[1]]:\n",
    "        continue\n",
    "    if not ts.has_edge(comps[e[0]], comps[e[1]]):\n",
    "        ts.add_edge(comps[e[0]], comps[e[1]])\n",
    "\n",
    "ts_comp = {}\n",
    "\n",
    "for i, idx in enumerate(list(nx.topological_sort(ts))):\n",
    "    ts_comp[idx] = i"
   ]
  },
  {
   "cell_type": "markdown",
   "metadata": {},
   "source": [
    "---\n",
    "Обработаем вершины и расставим метки:"
   ]
  },
  {
   "cell_type": "code",
   "execution_count": 303,
   "metadata": {},
   "outputs": [],
   "source": [
    "for i in range(len(points)):\n",
    "    name = points[i]['name']\n",
    "    neg_name = getNegName(name)\n",
    "    if not name in values.keys():\n",
    "        if ts_comp[comps[name]] > ts_comp[comps[neg_name]]:\n",
    "            mark(name)\n",
    "        else:\n",
    "            mark(neg_name)"
   ]
  },
  {
   "cell_type": "markdown",
   "metadata": {},
   "source": [
    "---\n",
    "проверим, существует ли решение у задачи:"
   ]
  },
  {
   "cell_type": "code",
   "execution_count": 304,
   "metadata": {},
   "outputs": [
    {
     "name": "stdout",
     "output_type": "stream",
     "text": [
      "The solution exists!!!\n"
     ]
    }
   ],
   "source": [
    "if values['ok']:\n",
    "    print('The solution exists!!!')\n",
    "else:\n",
    "    print('The solution doesn\\'t exists :(')"
   ]
  },
  {
   "cell_type": "markdown",
   "metadata": {},
   "source": [
    "---\n",
    "приступим к отрисовке:"
   ]
  },
  {
   "cell_type": "code",
   "execution_count": 308,
   "metadata": {},
   "outputs": [
    {
     "data": {
      "image/png": "[encoded data removed]",
      "text/plain": [
       "<Figure size 1080x576 with 1 Axes>"
      ]
     },
     "metadata": {
      "needs_background": "light"
     },
     "output_type": "display_data"
    }
   ],
   "source": [
    "plt.figure(figsize=(15, 8))\n",
    "\n",
    "# задаем пределы отрисовки\n",
    "plt.ylim((-10, 510))\n",
    "plt.xlim((-10, 510))\n",
    "\n",
    "# нарисуем рамку отрисовки\n",
    "plt.plot([0, 0], [0, 500], c='b')\n",
    "plt.plot([0, 500], [500, 500], c='b')\n",
    "plt.plot([500, 500], [500, 0], c='b')\n",
    "plt.plot([500, 0], [0, 0], c='b')\n",
    "\n",
    "for i in range(len(points)):\n",
    "    plt.scatter(points[i]['x'], points[i]['y'], c='r')\n",
    "    \n",
    "    box = getBoxBorders(i, 1)\n",
    "    if not values[points[i]['name']]:\n",
    "        box = getBoxBorders(i, 2)\n",
    "    \n",
    "    plt.plot([box[0][0], box[0][0]], [box[0][1], box[1][1]], c='r')\n",
    "    plt.plot([box[0][0], box[1][0]], [box[1][1], box[1][1]], c='r')\n",
    "    plt.plot([box[1][0], box[1][0]], [box[1][1], box[0][1]], c='r')\n",
    "    plt.plot([box[1][0], box[0][0]], [box[0][1], box[0][1]], c='r')\n",
    "    \n",
    "\n",
    "plt.savefig('result.png', format='png')\n",
    "plt.show()"
   ]
  },
  {
   "cell_type": "code",
   "execution_count": null,
   "metadata": {},
   "outputs": [],
   "source": []
  }
 ],
 "metadata": {
  "kernelspec": {
   "display_name": "Python 3",
   "language": "python",
   "name": "python3"
  },
  "language_info": {
   "codemirror_mode": {
    "name": "ipython",
    "version": 3
   },
   "file_extension": ".py",
   "mimetype": "text/x-python",
   "name": "python",
   "nbconvert_exporter": "python",
   "pygments_lexer": "ipython3",
   "version": "3.7.4"
  }
 },
 "nbformat": 4,
 "nbformat_minor": 2
}
