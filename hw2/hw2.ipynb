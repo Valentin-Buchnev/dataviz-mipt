{
 "cells": [
  {
   "cell_type": "code",
   "execution_count": 1,
   "metadata": {},
   "outputs": [],
   "source": [
    "import numpy as np\n",
    "import networkx as nx\n",
    "\n",
    "from matplotlib import pyplot as plt\n",
    "from functools import cmp_to_key"
   ]
  },
  {
   "cell_type": "markdown",
   "metadata": {},
   "source": [
    "---\n",
    "загрузка графа:"
   ]
  },
  {
   "cell_type": "code",
   "execution_count": 240,
   "metadata": {},
   "outputs": [],
   "source": [
    "W = None\n",
    "\n",
    "# path = './example1.graphml'\n",
    "path = './flow-test-3-piston.graphml'\n",
    "G = nx.read_graphml(path)"
   ]
  },
  {
   "cell_type": "markdown",
   "metadata": {},
   "source": [
    "---\n",
    "алгоритм топологической сортировки:"
   ]
  },
  {
   "cell_type": "code",
   "execution_count": 241,
   "metadata": {},
   "outputs": [],
   "source": [
    "def topsort(G):\n",
    "    \n",
    "    n = len(G)\n",
    "    G_rev = nx.DiGraph.reverse(G)\n",
    "    \n",
    "    labels = dict(zip(list(G.nodes), [n + 1] * n))\n",
    "    unprocessed_nodes = set(G.nodes)\n",
    "    \n",
    "    for i in range(n):\n",
    "        adj_labels = []\n",
    "        \n",
    "        for j in unprocessed_nodes:\n",
    "            adj_labels_j = []\n",
    "            \n",
    "            # вычисляем множество лейблов входящих вершин в вершину j\n",
    "            for v in G_rev.neighbors(j):\n",
    "                adj_labels_j.append(labels[v])\n",
    "            adj_labels_j = sorted(adj_labels_j)[::-1]\n",
    "            adj_labels.append((adj_labels_j, j))\n",
    "        \n",
    "        \n",
    "        # находим вершину с минимальным множеством входящих лейблов\n",
    "        _, v = sorted(adj_labels)[0]\n",
    "        \n",
    "        # присваеваем ей очередной номер и удаляем из очереди на обработку\n",
    "        labels[v] = i\n",
    "        unprocessed_nodes.remove(v)\n",
    "    \n",
    "    return labels"
   ]
  },
  {
   "cell_type": "markdown",
   "metadata": {},
   "source": [
    "---\n",
    "добавление фиктивных вершин:"
   ]
  },
  {
   "cell_type": "code",
   "execution_count": 242,
   "metadata": {},
   "outputs": [],
   "source": [
    "def order_x(G):\n",
    "    cnt_k = 0\n",
    "    for v in G.nodes:\n",
    "        cnt_k = max(cnt_k, G.nodes[v]['pos'][1])\n",
    "    \n",
    "    cnt_layers = [0] * cnt_k\n",
    "    for v in G.nodes:\n",
    "        _, y = G.nodes[v]['pos']\n",
    "        G.nodes[v]['pos'] = (cnt_layers[y - 1], y)\n",
    "        cnt_layers[y - 1] += 1\n",
    "    return G\n",
    "\n",
    "def add_dummies(G):\n",
    "    \n",
    "    dummies_cnt = 0\n",
    "    while True:\n",
    "        changed = False\n",
    "        for u, v in G.edges:\n",
    "            if G.nodes[u]['pos'][1] - G.nodes[v]['pos'][1] > 1:\n",
    "                changed = True\n",
    "                G.remove_edge(u, v)\n",
    "                for i in range(G.nodes[v]['pos'][1] + 1, G.nodes[u]['pos'][1]):\n",
    "                    cur_v = 'd' + str(dummies_cnt)\n",
    "                    G.add_node(cur_v)\n",
    "                    G.nodes[cur_v]['pos'] = (0, i)\n",
    "                    prev_v = (v if i == G.nodes[v]['pos'][1] + 1 else 'd' + str(dummies_cnt - 1))\n",
    "                    G.add_edge(cur_v, prev_v)\n",
    "                    dummies_cnt += 1\n",
    "                G.add_edge(u, 'd' + str(dummies_cnt - 1))\n",
    "                break\n",
    "        \n",
    "        if not changed:\n",
    "            break\n",
    "    \n",
    "    return order_x(G)"
   ]
  },
  {
   "cell_type": "markdown",
   "metadata": {},
   "source": [
    "---\n",
    "алгоритм Коффмана-Грэхема:"
   ]
  },
  {
   "cell_type": "code",
   "execution_count": 243,
   "metadata": {},
   "outputs": [],
   "source": [
    "def coffman_graham(G, W):\n",
    "    \n",
    "    n = len(G)\n",
    "    attrs = {}\n",
    "    \n",
    "    # получаем номера из топологической сортировки\n",
    "    labels = topsort(G)\n",
    "    \n",
    "    unprocessed_nodes = set(G.nodes)\n",
    "    cur_y = 1\n",
    "    cur_x = 1\n",
    "    \n",
    "    for i in range(n):\n",
    "        \n",
    "        # сначала пытаемся найти вершину, которую можно уложить на текущий слой\n",
    "        # при этом имеющую максимальную метку среди подходящих\n",
    "        idx = None\n",
    "        for j in unprocessed_nodes:\n",
    "            ok = True\n",
    "            this_layer = True\n",
    "            for v in G.neighbors(j):\n",
    "                if v in unprocessed_nodes:\n",
    "                    ok = False\n",
    "                elif attrs[v]['pos'][1] == cur_y:\n",
    "                    this_layer = False\n",
    "            \n",
    "            # ok - индикатор того, что все дети вершины уже обработаны\n",
    "            if ok and this_layer and (idx == None or labels[j] > labels[idx]):\n",
    "                idx = j\n",
    "        \n",
    "        # ищем просто подходящую вершину на следующий слой с максимальной меткой\n",
    "        this_layer = True\n",
    "        if idx == None:\n",
    "            this_layer = False\n",
    "            for j in unprocessed_nodes:\n",
    "                ok = True\n",
    "                for v in G.neighbors(j):\n",
    "                    if v in unprocessed_nodes:\n",
    "                        ok = False\n",
    "\n",
    "                # ok - индикатор того, что все дети вершины уже обработаны\n",
    "                if ok and (idx == None or labels[j] > labels[idx]):\n",
    "                    idx = j\n",
    "        \n",
    "        # idx - очередная вершина на обработку\n",
    "        \n",
    "        # проверяем, что все потомки лежат ниже текущего слоя  \n",
    "        if not this_layer:\n",
    "            cur_y += 1\n",
    "            cur_x = 1\n",
    "        \n",
    "        # задаем координаты вершины\n",
    "        attrs[idx] = {'pos': (cur_x, cur_y)}\n",
    "        \n",
    "        cur_x += 1\n",
    "        if cur_x == W + 1:\n",
    "            cur_y += 1\n",
    "            cur_x = 1\n",
    "        \n",
    "        # удаляем вершину из очереди на обработку\n",
    "        unprocessed_nodes.remove(idx)\n",
    "            \n",
    "    nx.set_node_attributes(G, attrs)\n",
    "    return G"
   ]
  },
  {
   "cell_type": "markdown",
   "metadata": {},
   "source": [
    "---\n",
    "алгоритм минимизации фиктивных вершин:"
   ]
  },
  {
   "cell_type": "code",
   "execution_count": 244,
   "metadata": {},
   "outputs": [],
   "source": [
    "def dummy_vertices_minimization(G):\n",
    "    G = coffman_graham(G, W=len(G) + 1)\n",
    "    G_rev = nx.DiGraph.reverse(G)\n",
    "    \n",
    "    while True:\n",
    "        changed = False\n",
    "        for v in G.nodes:\n",
    "            cur_x, cur_k = G.nodes[v]['pos']\n",
    "            min_k = 0\n",
    "            max_k = len(G) + 1\n",
    "            \n",
    "            # находим отрезок уровней, на которые может быть помещена данная вершина\n",
    "            cnt_in = 0\n",
    "            cnt_out = 0\n",
    "            for t in G_rev.neighbors(v):\n",
    "                max_k = min(max_k, G.nodes[t]['pos'][1])\n",
    "                cnt_in += 1\n",
    "            for t in G.neighbors(v):\n",
    "                min_k = max(min_k, G.nodes[t]['pos'][1])\n",
    "                cnt_out += 1\n",
    "            \n",
    "            # сдвигаем вершину максимально вверх или максимально вниз\n",
    "            new_k = cur_k\n",
    "            if cnt_in > cnt_out:\n",
    "                new_k = max_k - 1\n",
    "            else:\n",
    "                new_k = min_k + 1\n",
    "            \n",
    "            G.nodes[v]['pos'] = (cur_x, new_k)\n",
    "            changed = (new_k != cur_k)\n",
    "        \n",
    "        if not changed:\n",
    "            break\n",
    "    \n",
    "    return G"
   ]
  },
  {
   "cell_type": "markdown",
   "metadata": {},
   "source": [
    "---\n",
    "алгоритм минимизации числа пересечений:"
   ]
  },
  {
   "cell_type": "code",
   "execution_count": 245,
   "metadata": {},
   "outputs": [],
   "source": [
    "def minimize_crossings(G):\n",
    "    \n",
    "    G_rev = nx.DiGraph.reverse(G)\n",
    "    \n",
    "    cnt_k = 0\n",
    "    for v in G.nodes:\n",
    "        cnt_k = max(cnt_k, G.nodes[v]['pos'][1])\n",
    "    \n",
    "    # первый слой отсавим как есть, для всех остальных упорядочим вершины по принципу медиан\n",
    "    for i in range(cnt_k, 0, -1):\n",
    "        vers = []\n",
    "        xs = []\n",
    "        for v in G.nodes:\n",
    "            if G.nodes[v]['pos'][1] == i:\n",
    "                vers.append(v)\n",
    "                neighbors = []\n",
    "                for t in G_rev.neighbors(v):\n",
    "                    neighbors.append(G.nodes[t]['pos'][0])\n",
    "                if len(neighbors) > 0:\n",
    "                    xs.append(sorted(neighbors)[(len(neighbors) - 1) // 2])\n",
    "                else:\n",
    "                    xs.append(0)\n",
    "            \n",
    "        xs = sorted(list(zip(xs, vers)))\n",
    "        cnt_x = 1\n",
    "        \n",
    "        for x, v in xs:\n",
    "            G.nodes[v]['pos'] = (cnt_x, i)\n",
    "            cnt_x += 1\n",
    "    \n",
    "    # для каждой пары вершин в каждом слое проверяем, можно ли уменьшить кол-во пересечений\n",
    "    # путём перестановки этой пары\n",
    "    while True:\n",
    "        changed = False\n",
    "        for i in range(2, cnt_k - 1):\n",
    "            \n",
    "            # Посчитаем текущее количество пересечений между слоями i-1, i, i+1\n",
    "            cur_cnt_crs = 0\n",
    "            for u, v in G.edges:\n",
    "                if G.nodes[u]['pos'][1] != i + 1 and G.nodes[u]['pos'][1] != i:\n",
    "                    continue\n",
    "                for s, t in G.edges:\n",
    "                    if G.nodes[s]['pos'][1] != G.nodes[u]['pos'][1]:\n",
    "                        continue\n",
    "                    xu, yu = G.nodes[u]['pos']\n",
    "                    xv, yv = G.nodes[v]['pos']\n",
    "                    xs, ys = G.nodes[s]['pos']\n",
    "                    xt, yt = G.nodes[t]['pos']\n",
    "                    \n",
    "                    cur_cnt_crs += (xu < xs and xv > xt) or (xu > xs and xv < xt)\n",
    "                    \n",
    "            vers = []\n",
    "            for v in G.nodes:\n",
    "                if G.nodes[v]['pos'][1] == i:\n",
    "                    vers.append(v)\n",
    "            \n",
    "            for a_idx in range(len(vers)):\n",
    "                for b_idx in range(a_idx + 1, len(vers)):\n",
    "                    a = vers[a_idx]\n",
    "                    b = vers[b_idx]\n",
    "                    \n",
    "                    new_cnt_crs = 0\n",
    "                    for u, v in G.edges:\n",
    "                        if G.nodes[u]['pos'][1] != i + 1 and G.nodes[u]['pos'][1] != i:\n",
    "                            continue\n",
    "                        for s, t in G.edges:\n",
    "                            if G.nodes[s]['pos'][1] != G.nodes[u]['pos'][1]:\n",
    "                                continue\n",
    "                            xu, yu = G.nodes[u if u not in [a, b] else (b if u == a else a)]['pos']\n",
    "                            xv, yv = G.nodes[v if v not in [a, b] else (b if v == a else a)]['pos']\n",
    "                            xs, ys = G.nodes[s if s not in [a, b] else (b if s == a else a)]['pos']\n",
    "                            xt, yt = G.nodes[t if t not in [a, b] else (b if t == a else a)]['pos']\n",
    "                            \n",
    "                            new_cnt_crs += (xu < xs and xv > xt) or (xu > xs and xv < xt)\n",
    "                    \n",
    "                    if new_cnt_crs < cur_cnt_crs:\n",
    "                        G.nodes[a]['pos'], G.nodes[b]['pos'] = G.nodes[b]['pos'], G.nodes[a]['pos']\n",
    "                        changed = True\n",
    "        \n",
    "        if not changed:\n",
    "            break\n",
    "        \n",
    "    return G"
   ]
  },
  {
   "cell_type": "markdown",
   "metadata": {},
   "source": [
    "---\n",
    "процесс обработки графа:"
   ]
  },
  {
   "cell_type": "code",
   "execution_count": 246,
   "metadata": {},
   "outputs": [],
   "source": [
    "if not W is None:\n",
    "    G_layered = coffman_graham(G, W=W)\n",
    "    G_layered = add_dummies(G_layered)\n",
    "else:\n",
    "    G_layered = dummy_vertices_minimization(G)\n",
    "    G_layered = add_dummies(G_layered)\n",
    "    \n",
    "G_final = minimize_crossings(G_layered)"
   ]
  },
  {
   "cell_type": "markdown",
   "metadata": {},
   "source": [
    "---\n",
    "отрисовка получившегося графа:"
   ]
  },
  {
   "cell_type": "code",
   "execution_count": 247,
   "metadata": {},
   "outputs": [
    {
     "data": {
      "image/png": "[encoded data removed]",
      "text/plain": [
       "<Figure size 1080x576 with 1 Axes>"
      ]
     },
     "metadata": {},
     "output_type": "display_data"
    }
   ],
   "source": [
    "labels = {}\n",
    "\n",
    "for v in G_final.nodes:\n",
    "    if v[0] != 'd':\n",
    "        labels[v] = v\n",
    "\n",
    "plt.figure(figsize=(15, 8))\n",
    "nx.draw(G_final, nx.get_node_attributes(G, 'pos'), labels=labels, node_size=200, node_color='w', font_size=16)\n",
    "plt.savefig('result.png', format='png')\n",
    "plt.draw()"
   ]
  },
  {
   "cell_type": "code",
   "execution_count": null,
   "metadata": {},
   "outputs": [],
   "source": []
  }
 ],
 "metadata": {
  "kernelspec": {
   "display_name": "Python 3",
   "language": "python",
   "name": "python3"
  },
  "language_info": {
   "codemirror_mode": {
    "name": "ipython",
    "version": 3
   },
   "file_extension": ".py",
   "mimetype": "text/x-python",
   "name": "python",
   "nbconvert_exporter": "python",
   "pygments_lexer": "ipython3",
   "version": "3.7.4"
  }
 },
 "nbformat": 4,
 "nbformat_minor": 2
}
